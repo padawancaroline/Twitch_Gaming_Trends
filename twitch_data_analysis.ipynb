{
 "cells": [
  {
   "cell_type": "markdown",
   "metadata": {},
   "source": [
    "# Visualize Twitch Gaming Data"
   ]
  },
  {
   "cell_type": "markdown",
   "metadata": {},
   "source": [
    "In this project, we will visualize Twitch data using Python and Matplotlib, in the forms of:\n",
    "\n",
    "- **Bar Graph:** Featured Games\n",
    "- **Pie Chart:** Stream Viewers’ Locations\n",
    "- **Line Graph:** Time Series Analysis"
   ]
  },
  {
   "cell_type": "code",
   "execution_count": 1,
   "metadata": {},
   "outputs": [
    {
     "name": "stdout",
     "output_type": "stream",
     "text": [
      "<class 'pandas.core.frame.DataFrame'>\n",
      "RangeIndex: 148562 entries, 0 to 148561\n",
      "Data columns (total 7 columns):\n",
      " #   Column     Non-Null Count   Dtype \n",
      "---  ------     --------------   ----- \n",
      " 0   time       148562 non-null  object\n",
      " 1   device_id  148560 non-null  object\n",
      " 2   login      148562 non-null  object\n",
      " 3   channel    148562 non-null  object\n",
      " 4   country    142641 non-null  object\n",
      " 5   player     37536 non-null   object\n",
      " 6   game       148221 non-null  object\n",
      "dtypes: object(7)\n",
      "memory usage: 7.9+ MB\n",
      "<class 'pandas.core.frame.DataFrame'>\n",
      "RangeIndex: 526299 entries, 0 to 526298\n",
      "Data columns (total 9 columns):\n",
      " #   Column         Non-Null Count   Dtype \n",
      "---  ------         --------------   ----- \n",
      " 0   time           526299 non-null  object\n",
      " 1   device_id      526271 non-null  object\n",
      " 2   login          526299 non-null  object\n",
      " 3   channel        526299 non-null  object\n",
      " 4   country        509135 non-null  object\n",
      " 5   player         526299 non-null  object\n",
      " 6   game           523175 non-null  object\n",
      " 7   stream_format  267332 non-null  object\n",
      " 8   subscriber     273814 non-null  object\n",
      "dtypes: object(9)\n",
      "memory usage: 36.1+ MB\n"
     ]
    }
   ],
   "source": [
    "# Import necessary libraries\n",
    "import pandas as pd\n",
    "import matplotlib.pyplot as plt\n",
    "import math\n",
    "import numpy as np\n",
    "import seaborn as sns\n",
    "import matplotlib.ticker as mticker  # Import ticker for formatting\n",
    "\n",
    "\n",
    "# load rankings data\n",
    "chat = pd.read_csv('data/chat.csv')\n",
    "stream = pd.read_csv('data/video_play.csv')\n",
    "\n",
    "# View dataframe info\n",
    "chat.info()\n",
    "stream.info()\n"
   ]
  },
  {
   "cell_type": "code",
   "execution_count": 189,
   "metadata": {},
   "outputs": [
    {
     "data": {
      "text/plain": [
       "('2015-01-01 00:00:00', '2015-01-01 23:59:59')"
      ]
     },
     "execution_count": 189,
     "metadata": {},
     "output_type": "execute_result"
    }
   ],
   "source": [
    "# Get the stream dataset time range\n",
    "stream['time'].min(), stream['time'].max()"
   ]
  },
  {
   "cell_type": "code",
   "execution_count": 190,
   "metadata": {},
   "outputs": [
    {
     "data": {
      "text/html": [
       "<div>\n",
       "<style scoped>\n",
       "    .dataframe tbody tr th:only-of-type {\n",
       "        vertical-align: middle;\n",
       "    }\n",
       "\n",
       "    .dataframe tbody tr th {\n",
       "        vertical-align: top;\n",
       "    }\n",
       "\n",
       "    .dataframe thead th {\n",
       "        text-align: right;\n",
       "    }\n",
       "</style>\n",
       "<table border=\"1\" class=\"dataframe\">\n",
       "  <thead>\n",
       "    <tr style=\"text-align: right;\">\n",
       "      <th></th>\n",
       "      <th>time</th>\n",
       "      <th>device_id</th>\n",
       "      <th>login</th>\n",
       "      <th>channel</th>\n",
       "      <th>country</th>\n",
       "      <th>player</th>\n",
       "      <th>game</th>\n",
       "      <th>stream_format</th>\n",
       "      <th>subscriber</th>\n",
       "    </tr>\n",
       "  </thead>\n",
       "  <tbody>\n",
       "    <tr>\n",
       "      <th>count</th>\n",
       "      <td>526299</td>\n",
       "      <td>526271</td>\n",
       "      <td>526299</td>\n",
       "      <td>526299</td>\n",
       "      <td>509135</td>\n",
       "      <td>526299</td>\n",
       "      <td>523175</td>\n",
       "      <td>267332</td>\n",
       "      <td>273814</td>\n",
       "    </tr>\n",
       "    <tr>\n",
       "      <th>unique</th>\n",
       "      <td>80706</td>\n",
       "      <td>267629</td>\n",
       "      <td>258313</td>\n",
       "      <td>10</td>\n",
       "      <td>166</td>\n",
       "      <td>16</td>\n",
       "      <td>41</td>\n",
       "      <td>5</td>\n",
       "      <td>2</td>\n",
       "    </tr>\n",
       "    <tr>\n",
       "      <th>top</th>\n",
       "      <td>2015-01-01 01:52:07</td>\n",
       "      <td>cbe05861add0794349c485e375ccc8f105a33e0b</td>\n",
       "      <td>be95fab358b45e0493b38ed5f0a0ff1fe9481214</td>\n",
       "      <td>frank</td>\n",
       "      <td>US</td>\n",
       "      <td>site</td>\n",
       "      <td>League of Legends</td>\n",
       "      <td>chunked</td>\n",
       "      <td>False</td>\n",
       "    </tr>\n",
       "    <tr>\n",
       "      <th>freq</th>\n",
       "      <td>91</td>\n",
       "      <td>231</td>\n",
       "      <td>232</td>\n",
       "      <td>194300</td>\n",
       "      <td>190378</td>\n",
       "      <td>246115</td>\n",
       "      <td>193533</td>\n",
       "      <td>141259</td>\n",
       "      <td>263845</td>\n",
       "    </tr>\n",
       "  </tbody>\n",
       "</table>\n",
       "</div>"
      ],
      "text/plain": [
       "                       time                                 device_id  \\\n",
       "count                526299                                    526271   \n",
       "unique                80706                                    267629   \n",
       "top     2015-01-01 01:52:07  cbe05861add0794349c485e375ccc8f105a33e0b   \n",
       "freq                     91                                       231   \n",
       "\n",
       "                                           login channel country  player  \\\n",
       "count                                     526299  526299  509135  526299   \n",
       "unique                                    258313      10     166      16   \n",
       "top     be95fab358b45e0493b38ed5f0a0ff1fe9481214   frank      US    site   \n",
       "freq                                         232  194300  190378  246115   \n",
       "\n",
       "                     game stream_format subscriber  \n",
       "count              523175        267332     273814  \n",
       "unique                 41             5          2  \n",
       "top     League of Legends       chunked      False  \n",
       "freq               193533        141259     263845  "
      ]
     },
     "execution_count": 190,
     "metadata": {},
     "output_type": "execute_result"
    }
   ],
   "source": [
    "# Inspect data\n",
    "stream.describe()"
   ]
  },
  {
   "cell_type": "markdown",
   "metadata": {},
   "source": [
    "## Bar Graph: Featured Games"
   ]
  },
  {
   "cell_type": "markdown",
   "metadata": {},
   "source": [
    "#### Data Preparation"
   ]
  },
  {
   "cell_type": "code",
   "execution_count": 191,
   "metadata": {},
   "outputs": [
    {
     "data": {
      "text/html": [
       "<div>\n",
       "<style scoped>\n",
       "    .dataframe tbody tr th:only-of-type {\n",
       "        vertical-align: middle;\n",
       "    }\n",
       "\n",
       "    .dataframe tbody tr th {\n",
       "        vertical-align: top;\n",
       "    }\n",
       "\n",
       "    .dataframe thead th {\n",
       "        text-align: right;\n",
       "    }\n",
       "</style>\n",
       "<table border=\"1\" class=\"dataframe\">\n",
       "  <thead>\n",
       "    <tr style=\"text-align: right;\">\n",
       "      <th></th>\n",
       "      <th>login</th>\n",
       "    </tr>\n",
       "    <tr>\n",
       "      <th>game</th>\n",
       "      <th></th>\n",
       "    </tr>\n",
       "  </thead>\n",
       "  <tbody>\n",
       "    <tr>\n",
       "      <th>League of Legends</th>\n",
       "      <td>193533</td>\n",
       "    </tr>\n",
       "    <tr>\n",
       "      <th>Dota 2</th>\n",
       "      <td>85608</td>\n",
       "    </tr>\n",
       "    <tr>\n",
       "      <th>Counter-Strike: Global Offensive</th>\n",
       "      <td>54438</td>\n",
       "    </tr>\n",
       "    <tr>\n",
       "      <th>DayZ</th>\n",
       "      <td>38004</td>\n",
       "    </tr>\n",
       "    <tr>\n",
       "      <th>Heroes of the Storm</th>\n",
       "      <td>35310</td>\n",
       "    </tr>\n",
       "    <tr>\n",
       "      <th>The Binding of Isaac: Rebirth</th>\n",
       "      <td>29467</td>\n",
       "    </tr>\n",
       "    <tr>\n",
       "      <th>Gaming Talk Shows</th>\n",
       "      <td>28115</td>\n",
       "    </tr>\n",
       "    <tr>\n",
       "      <th>World of Tanks</th>\n",
       "      <td>15932</td>\n",
       "    </tr>\n",
       "    <tr>\n",
       "      <th>Hearthstone: Heroes of Warcraft</th>\n",
       "      <td>14399</td>\n",
       "    </tr>\n",
       "    <tr>\n",
       "      <th>Agar.io</th>\n",
       "      <td>11480</td>\n",
       "    </tr>\n",
       "  </tbody>\n",
       "</table>\n",
       "</div>"
      ],
      "text/plain": [
       "                                   login\n",
       "game                                    \n",
       "League of Legends                 193533\n",
       "Dota 2                             85608\n",
       "Counter-Strike: Global Offensive   54438\n",
       "DayZ                               38004\n",
       "Heroes of the Storm                35310\n",
       "The Binding of Isaac: Rebirth      29467\n",
       "Gaming Talk Shows                  28115\n",
       "World of Tanks                     15932\n",
       "Hearthstone: Heroes of Warcraft    14399\n",
       "Agar.io                            11480"
      ]
     },
     "execution_count": 191,
     "metadata": {},
     "output_type": "execute_result"
    }
   ],
   "source": [
    "# Group by 'game' and count the number of logins to determine popularity\n",
    "featured_games = stream[['game', 'login']].groupby('game').count().sort_values(by='login', ascending=False)\n",
    "\n",
    "# Select the top 10 most popular games based on the number of logins\n",
    "top10_featured_games = featured_games[:10]\n",
    "\n",
    "# Display the full list of games sorted by popularity\n",
    "#featured_games\n",
    "# Display the top 10 featured games\n",
    "top10_featured_games"
   ]
  },
  {
   "cell_type": "code",
   "execution_count": 192,
   "metadata": {},
   "outputs": [
    {
     "data": {
      "text/plain": [
       "['LoL',\n",
       " 'Dota 2',\n",
       " 'CS: GO',\n",
       " 'DayZ',\n",
       " 'HoS',\n",
       " 'Isaac: Rebirth',\n",
       " 'Gaming Talk Shows',\n",
       " 'WoT',\n",
       " 'Hearthstone: HoW',\n",
       " 'Agar.io']"
      ]
     },
     "execution_count": 192,
     "metadata": {},
     "output_type": "execute_result"
    }
   ],
   "source": [
    "# Define a list of the top 10 most popular games based on previous analysis\n",
    "top10_game_list = ['LoL', 'Dota 2', 'CS: GO',\n",
    "       'DayZ', 'HoS', 'Isaac: Rebirth',\n",
    "       'Gaming Talk Shows', 'WoT',\n",
    "       'Hearthstone: HoW', 'Agar.io']\n",
    "\n",
    "# Display the top 10 game list\n",
    "top10_game_list"
   ]
  },
  {
   "cell_type": "markdown",
   "metadata": {},
   "source": [
    "#### Visualization"
   ]
  },
  {
   "cell_type": "code",
   "execution_count": 193,
   "metadata": {},
   "outputs": [
    {
     "data": {
      "image/png": "[encoded data removed]",
      "text/plain": [
       "<Figure size 800x500 with 1 Axes>"
      ]
     },
     "metadata": {
      "needs_background": "dark"
     },
     "output_type": "display_data"
    },
    {
     "data": {
      "text/plain": [
       "<Figure size 640x480 with 0 Axes>"
      ]
     },
     "metadata": {},
     "output_type": "display_data"
    }
   ],
   "source": [
    "# Define the dark theme to match the slide design\n",
    "plt.style.use('dark_background')\n",
    "\n",
    "# Create the figure and axis with a transparent background\n",
    "fig, ax = plt.subplots(figsize=(8, 5), facecolor='none')\n",
    "\n",
    "# Set color scheme to match the Twitch slide deck (purple theme)\n",
    "line_color = '#A780F6'  # Soft purple\n",
    "fill_color = '#A780F6'  # Soft purple for transparency\n",
    "\n",
    "\n",
    "plt.bar(range(len(top10_featured_games)), top10_featured_games['login'], color='#6441a5', label='Twitch')\n",
    "\n",
    "# Tick configuration\n",
    "ax.set_xticks(range(len(top10_featured_games)))  # Ensure ticks match bar positions\n",
    "ax.set_xticklabels(top10_game_list, rotation=45, ha='right')  # Rotate and align labels\n",
    "\n",
    "# Customize chart appearance to match slide\n",
    "ax.set_facecolor('none')  # Transparent background\n",
    "ax.spines['top'].set_color('white')\n",
    "ax.spines['right'].set_color('white')\n",
    "ax.spines['bottom'].set_color('white')\n",
    "ax.spines['left'].set_color('white')\n",
    "\n",
    "# Add dotted grid lines (to match slide design)\n",
    "ax.grid(color='white', linestyle='dotted', linewidth=0.7, alpha=0.5) # add parameter axis='y' for horizontal lines only\n",
    "\n",
    "# Remove grid lines and axis lines (spines)\n",
    "ax.spines['top'].set_visible(False)\n",
    "ax.spines['right'].set_visible(False)\n",
    "ax.spines['bottom'].set_visible(False)\n",
    "ax.spines['left'].set_visible(False)\n",
    "\n",
    "# Set labels, title, and fonts to match slide design\n",
    "ax.set_title('Featured Games Viewers', fontsize=14, color='white', fontweight='bold')\n",
    "ax.set_xlabel('Games', fontsize=12, color='white', labelpad=10)\n",
    "ax.set_ylabel('Viewers', fontsize=12, color='white', labelpad=15)\n",
    "\n",
    "# Customize ticks to match slide\n",
    "ax.tick_params(axis='both', colors='white', labelsize=10)\n",
    "# Format Y-axis labels in 'XK' format (e.g., 10K, 20K)\n",
    "ax.yaxis.set_major_formatter(mticker.FuncFormatter(lambda x, _: f'{int(x/1000)}K'))\n",
    "\n",
    "# Save the plot with transparent background\n",
    "plt.savefig('Visualizations/featured_games_viewers.png', transparent=True, dpi=300)\n",
    "\n",
    "# Show the final chart\n",
    "plt.show()\n",
    "plt.clf()"
   ]
  },
  {
   "cell_type": "markdown",
   "metadata": {},
   "source": [
    "## Pie Chart: League of Legends Viewers' Whereabouts"
   ]
  },
  {
   "cell_type": "markdown",
   "metadata": {},
   "source": [
    "#### Data Preparation"
   ]
  },
  {
   "cell_type": "code",
   "execution_count": 194,
   "metadata": {},
   "outputs": [
    {
     "data": {
      "text/plain": [
       "0"
      ]
     },
     "execution_count": 194,
     "metadata": {},
     "output_type": "execute_result"
    }
   ],
   "source": [
    "# Fill missing values in the 'country' column with 'N/A'\n",
    "stream['country'] = stream['country'].fillna('N/A')\n",
    "\n",
    "# Check if there are any remaining missing values in the 'country' column\n",
    "stream['country'].isna().sum()"
   ]
  },
  {
   "cell_type": "code",
   "execution_count": 195,
   "metadata": {},
   "outputs": [
    {
     "data": {
      "text/html": [
       "<div>\n",
       "<style scoped>\n",
       "    .dataframe tbody tr th:only-of-type {\n",
       "        vertical-align: middle;\n",
       "    }\n",
       "\n",
       "    .dataframe tbody tr th {\n",
       "        vertical-align: top;\n",
       "    }\n",
       "\n",
       "    .dataframe thead th {\n",
       "        text-align: right;\n",
       "    }\n",
       "</style>\n",
       "<table border=\"1\" class=\"dataframe\">\n",
       "  <thead>\n",
       "    <tr style=\"text-align: right;\">\n",
       "      <th></th>\n",
       "      <th>login</th>\n",
       "    </tr>\n",
       "    <tr>\n",
       "      <th>country</th>\n",
       "      <th></th>\n",
       "    </tr>\n",
       "  </thead>\n",
       "  <tbody>\n",
       "    <tr>\n",
       "      <th>US</th>\n",
       "      <td>85606</td>\n",
       "    </tr>\n",
       "    <tr>\n",
       "      <th>CA</th>\n",
       "      <td>13034</td>\n",
       "    </tr>\n",
       "    <tr>\n",
       "      <th>DE</th>\n",
       "      <td>10835</td>\n",
       "    </tr>\n",
       "    <tr>\n",
       "      <th>N/A</th>\n",
       "      <td>7641</td>\n",
       "    </tr>\n",
       "    <tr>\n",
       "      <th>GB</th>\n",
       "      <td>6964</td>\n",
       "    </tr>\n",
       "    <tr>\n",
       "      <th>...</th>\n",
       "      <td>...</td>\n",
       "    </tr>\n",
       "    <tr>\n",
       "      <th>AD</th>\n",
       "      <td>1</td>\n",
       "    </tr>\n",
       "    <tr>\n",
       "      <th>MQ</th>\n",
       "      <td>1</td>\n",
       "    </tr>\n",
       "    <tr>\n",
       "      <th>GY</th>\n",
       "      <td>1</td>\n",
       "    </tr>\n",
       "    <tr>\n",
       "      <th>GA</th>\n",
       "      <td>1</td>\n",
       "    </tr>\n",
       "    <tr>\n",
       "      <th>A1</th>\n",
       "      <td>1</td>\n",
       "    </tr>\n",
       "  </tbody>\n",
       "</table>\n",
       "<p>156 rows × 1 columns</p>\n",
       "</div>"
      ],
      "text/plain": [
       "         login\n",
       "country       \n",
       "US       85606\n",
       "CA       13034\n",
       "DE       10835\n",
       "N/A       7641\n",
       "GB        6964\n",
       "...        ...\n",
       "AD           1\n",
       "MQ           1\n",
       "GY           1\n",
       "GA           1\n",
       "A1           1\n",
       "\n",
       "[156 rows x 1 columns]"
      ]
     },
     "execution_count": 195,
     "metadata": {},
     "output_type": "execute_result"
    }
   ],
   "source": [
    "# Group by 'country' and count the number of unique logins to determine viewership by country for LOL\n",
    "lol_viewers_by_country = stream[['country', 'login']][stream['game'] == 'League of Legends'].groupby('country').count().sort_values(by='login', ascending=False)\n",
    "\n",
    "# Display the final dataframe showing LoL viewership by country\n",
    "lol_viewers_by_country"
   ]
  },
  {
   "cell_type": "code",
   "execution_count": 196,
   "metadata": {},
   "outputs": [
    {
     "data": {
      "text/html": [
       "<div>\n",
       "<style scoped>\n",
       "    .dataframe tbody tr th:only-of-type {\n",
       "        vertical-align: middle;\n",
       "    }\n",
       "\n",
       "    .dataframe tbody tr th {\n",
       "        vertical-align: top;\n",
       "    }\n",
       "\n",
       "    .dataframe thead th {\n",
       "        text-align: right;\n",
       "    }\n",
       "</style>\n",
       "<table border=\"1\" class=\"dataframe\">\n",
       "  <thead>\n",
       "    <tr style=\"text-align: right;\">\n",
       "      <th></th>\n",
       "      <th>login</th>\n",
       "    </tr>\n",
       "  </thead>\n",
       "  <tbody>\n",
       "    <tr>\n",
       "      <th>US</th>\n",
       "      <td>85606</td>\n",
       "    </tr>\n",
       "    <tr>\n",
       "      <th>CA</th>\n",
       "      <td>13034</td>\n",
       "    </tr>\n",
       "    <tr>\n",
       "      <th>DE</th>\n",
       "      <td>10835</td>\n",
       "    </tr>\n",
       "    <tr>\n",
       "      <th>N/A</th>\n",
       "      <td>7641</td>\n",
       "    </tr>\n",
       "    <tr>\n",
       "      <th>GB</th>\n",
       "      <td>6964</td>\n",
       "    </tr>\n",
       "    <tr>\n",
       "      <th>TR</th>\n",
       "      <td>4412</td>\n",
       "    </tr>\n",
       "    <tr>\n",
       "      <th>AU</th>\n",
       "      <td>3911</td>\n",
       "    </tr>\n",
       "    <tr>\n",
       "      <th>SE</th>\n",
       "      <td>3533</td>\n",
       "    </tr>\n",
       "    <tr>\n",
       "      <th>NL</th>\n",
       "      <td>3213</td>\n",
       "    </tr>\n",
       "    <tr>\n",
       "      <th>DK</th>\n",
       "      <td>2909</td>\n",
       "    </tr>\n",
       "    <tr>\n",
       "      <th>GR</th>\n",
       "      <td>2885</td>\n",
       "    </tr>\n",
       "    <tr>\n",
       "      <th>Others</th>\n",
       "      <td>48590</td>\n",
       "    </tr>\n",
       "  </tbody>\n",
       "</table>\n",
       "</div>"
      ],
      "text/plain": [
       "        login\n",
       "US      85606\n",
       "CA      13034\n",
       "DE      10835\n",
       "N/A      7641\n",
       "GB       6964\n",
       "TR       4412\n",
       "AU       3911\n",
       "SE       3533\n",
       "NL       3213\n",
       "DK       2909\n",
       "GR       2885\n",
       "Others  48590"
      ]
     },
     "execution_count": 196,
     "metadata": {},
     "output_type": "execute_result"
    }
   ],
   "source": [
    "# Separate countries above and below the threshold\n",
    "above_threshold = lol_viewers_by_country.head(11)\n",
    "\n",
    "# Group the rows below the threshold into 'Others'\n",
    "others = pd.DataFrame({\n",
    "    'login': [lol_viewers_by_country.iloc[11:]['login'].sum()]  # Sum the rest\n",
    "}, index=['Others'])\n",
    "\n",
    "# Combine the above-threshold countries and 'Others'\n",
    "final_result = pd.concat([above_threshold, others])\n",
    "final_result\n"
   ]
  },
  {
   "cell_type": "markdown",
   "metadata": {},
   "source": [
    "#### Visualization"
   ]
  },
  {
   "cell_type": "code",
   "execution_count": 197,
   "metadata": {},
   "outputs": [
    {
     "data": {
      "image/png": "[encoded data removed]",
      "text/plain": [
       "<Figure size 800x500 with 1 Axes>"
      ]
     },
     "metadata": {},
     "output_type": "display_data"
    },
    {
     "data": {
      "text/plain": [
       "<Figure size 640x480 with 0 Axes>"
      ]
     },
     "metadata": {},
     "output_type": "display_data"
    }
   ],
   "source": [
    "# Create the figure and axis with a transparent background\n",
    "fig, ax = plt.subplots(figsize=(8, 5), facecolor='none')\n",
    "\n",
    "# Define a high-contrast color palette for better distinction\n",
    "colors = [\n",
    "    \"#A780F6\", \"#DC143C\", \"#F67280\", \"#FFA07A\", \"#FFD700\", \"#00FA9A\",\n",
    "    \"#00CED1\", \"#4682B4\", \"#5D3FD3\", \"#FF69B4\", \"#8A2BE2\", \"#5D3FD3\"\n",
    "]\n",
    "\n",
    "# Define the explode values for emphasis (highlighting the largest slice)\n",
    "explode = [0.1 if i == 0 else 0 for i in range(len(final_result.index))]\n",
    "\n",
    "# Plot the pie chart\n",
    "plt.pie(\n",
    "    final_result['login'], \n",
    "    explode=explode, \n",
    "    shadow=False, \n",
    "    startangle=345, \n",
    "    autopct='%1.0f%%', \n",
    "    pctdistance=1.15, \n",
    "    textprops={'fontsize': 10, 'color': 'white'},  # Text formatting for readability\n",
    "    colors=colors  # Apply custom Twitch-style colors\n",
    ")\n",
    "\n",
    "# Ensure the chart remains circular\n",
    "plt.axis('equal')\n",
    "\n",
    "# Add title and legend\n",
    "plt.title(\"League of Legends Viewers' Whereabouts\", fontsize=14, color='white', pad=15, fontweight=\"bold\")\n",
    "plt.legend(final_result.index, loc='center right', fontsize=10, frameon=False, labelcolor='white')\n",
    "\n",
    "# Save the plot with transparent background\n",
    "plt.savefig('Visualizations/lol_viewers_country.png', transparent=True, dpi=300)\n",
    "\n",
    "# Show the plot\n",
    "plt.show()\n",
    "\n",
    "# Clear the figure after display\n",
    "plt.clf()"
   ]
  },
  {
   "cell_type": "markdown",
   "metadata": {},
   "source": [
    "## Line Graph: Time Series Analysis"
   ]
  },
  {
   "cell_type": "markdown",
   "metadata": {},
   "source": [
    "#### Data Preparation"
   ]
  },
  {
   "cell_type": "code",
   "execution_count": 198,
   "metadata": {},
   "outputs": [
    {
     "data": {
      "text/html": [
       "<div>\n",
       "<style scoped>\n",
       "    .dataframe tbody tr th:only-of-type {\n",
       "        vertical-align: middle;\n",
       "    }\n",
       "\n",
       "    .dataframe tbody tr th {\n",
       "        vertical-align: top;\n",
       "    }\n",
       "\n",
       "    .dataframe thead th {\n",
       "        text-align: right;\n",
       "    }\n",
       "</style>\n",
       "<table border=\"1\" class=\"dataframe\">\n",
       "  <thead>\n",
       "    <tr style=\"text-align: right;\">\n",
       "      <th></th>\n",
       "      <th>login</th>\n",
       "    </tr>\n",
       "    <tr>\n",
       "      <th>hour</th>\n",
       "      <th></th>\n",
       "    </tr>\n",
       "  </thead>\n",
       "  <tbody>\n",
       "    <tr>\n",
       "      <th>0</th>\n",
       "      <td>7025</td>\n",
       "    </tr>\n",
       "    <tr>\n",
       "      <th>1</th>\n",
       "      <td>4693</td>\n",
       "    </tr>\n",
       "    <tr>\n",
       "      <th>2</th>\n",
       "      <td>5961</td>\n",
       "    </tr>\n",
       "    <tr>\n",
       "      <th>3</th>\n",
       "      <td>4236</td>\n",
       "    </tr>\n",
       "    <tr>\n",
       "      <th>4</th>\n",
       "      <td>3567</td>\n",
       "    </tr>\n",
       "    <tr>\n",
       "      <th>5</th>\n",
       "      <td>1597</td>\n",
       "    </tr>\n",
       "    <tr>\n",
       "      <th>6</th>\n",
       "      <td>236</td>\n",
       "    </tr>\n",
       "    <tr>\n",
       "      <th>7</th>\n",
       "      <td>338</td>\n",
       "    </tr>\n",
       "    <tr>\n",
       "      <th>8</th>\n",
       "      <td>935</td>\n",
       "    </tr>\n",
       "    <tr>\n",
       "      <th>9</th>\n",
       "      <td>1214</td>\n",
       "    </tr>\n",
       "    <tr>\n",
       "      <th>10</th>\n",
       "      <td>1940</td>\n",
       "    </tr>\n",
       "    <tr>\n",
       "      <th>11</th>\n",
       "      <td>7349</td>\n",
       "    </tr>\n",
       "    <tr>\n",
       "      <th>12</th>\n",
       "      <td>11766</td>\n",
       "    </tr>\n",
       "    <tr>\n",
       "      <th>13</th>\n",
       "      <td>9740</td>\n",
       "    </tr>\n",
       "    <tr>\n",
       "      <th>14</th>\n",
       "      <td>7521</td>\n",
       "    </tr>\n",
       "    <tr>\n",
       "      <th>15</th>\n",
       "      <td>9065</td>\n",
       "    </tr>\n",
       "    <tr>\n",
       "      <th>16</th>\n",
       "      <td>10134</td>\n",
       "    </tr>\n",
       "    <tr>\n",
       "      <th>17</th>\n",
       "      <td>11929</td>\n",
       "    </tr>\n",
       "    <tr>\n",
       "      <th>18</th>\n",
       "      <td>12215</td>\n",
       "    </tr>\n",
       "    <tr>\n",
       "      <th>19</th>\n",
       "      <td>15206</td>\n",
       "    </tr>\n",
       "    <tr>\n",
       "      <th>20</th>\n",
       "      <td>19656</td>\n",
       "    </tr>\n",
       "    <tr>\n",
       "      <th>21</th>\n",
       "      <td>18425</td>\n",
       "    </tr>\n",
       "    <tr>\n",
       "      <th>22</th>\n",
       "      <td>13984</td>\n",
       "    </tr>\n",
       "    <tr>\n",
       "      <th>23</th>\n",
       "      <td>11646</td>\n",
       "    </tr>\n",
       "  </tbody>\n",
       "</table>\n",
       "</div>"
      ],
      "text/plain": [
       "      login\n",
       "hour       \n",
       "0      7025\n",
       "1      4693\n",
       "2      5961\n",
       "3      4236\n",
       "4      3567\n",
       "5      1597\n",
       "6       236\n",
       "7       338\n",
       "8       935\n",
       "9      1214\n",
       "10     1940\n",
       "11     7349\n",
       "12    11766\n",
       "13     9740\n",
       "14     7521\n",
       "15     9065\n",
       "16    10134\n",
       "17    11929\n",
       "18    12215\n",
       "19    15206\n",
       "20    19656\n",
       "21    18425\n",
       "22    13984\n",
       "23    11646"
      ]
     },
     "execution_count": 198,
     "metadata": {},
     "output_type": "execute_result"
    }
   ],
   "source": [
    "# Convert 'timestamp' column to datetime\n",
    "stream['time'] = pd.to_datetime(stream['time'])\n",
    "# Extract the hour from the 'time' column and create a new 'hour' column\n",
    "stream['hour'] = stream['time'].dt.hour\n",
    "\n",
    "# Group by 'hour' and count the number of unique logins to determine hourly viewership trends\n",
    "us_viewers_by_hour = stream[['hour','login']][stream['country'] == 'US'].groupby('hour').count()\n",
    "\n",
    "# Display the final dataframe showing US viewership by hour\n",
    "us_viewers_by_hour"
   ]
  },
  {
   "cell_type": "code",
   "execution_count": 199,
   "metadata": {},
   "outputs": [
    {
     "data": {
      "text/plain": [
       "([8078.75,\n",
       "  5396.95,\n",
       "  6855.15,\n",
       "  4871.4,\n",
       "  4102.05,\n",
       "  1836.55,\n",
       "  271.4,\n",
       "  388.7,\n",
       "  1075.25,\n",
       "  1396.1,\n",
       "  2231.0,\n",
       "  8451.35,\n",
       "  13530.9,\n",
       "  11201.0,\n",
       "  8649.15,\n",
       "  10424.75,\n",
       "  11654.1,\n",
       "  13718.35,\n",
       "  14047.25,\n",
       "  17486.9,\n",
       "  22604.4,\n",
       "  21188.75,\n",
       "  16081.6,\n",
       "  13392.9],\n",
       " [5971.25,\n",
       "  3989.05,\n",
       "  5066.85,\n",
       "  3600.6,\n",
       "  3031.95,\n",
       "  1357.45,\n",
       "  200.6,\n",
       "  287.3,\n",
       "  794.75,\n",
       "  1031.9,\n",
       "  1649.0,\n",
       "  6246.65,\n",
       "  10001.1,\n",
       "  8279.0,\n",
       "  6392.85,\n",
       "  7705.25,\n",
       "  8613.9,\n",
       "  10139.65,\n",
       "  10382.75,\n",
       "  12925.1,\n",
       "  16707.6,\n",
       "  15661.25,\n",
       "  11886.4,\n",
       "  9899.1])"
      ]
     },
     "execution_count": 199,
     "metadata": {},
     "output_type": "execute_result"
    }
   ],
   "source": [
    "# Calculate the upper bound by increasing each login count by 15%\n",
    "y_upper = [i + (i*0.15) for i in us_viewers_by_hour['login']]\n",
    "# Calculate the lower bound by decreasing each login count by 15%\n",
    "y_lower = [i - (i*0.15) for i in us_viewers_by_hour['login']]\n",
    "# Display the upper and lower bound lists\n",
    "y_upper, y_lower"
   ]
  },
  {
   "cell_type": "markdown",
   "metadata": {},
   "source": [
    "#### Visualization"
   ]
  },
  {
   "cell_type": "code",
   "execution_count": 200,
   "metadata": {},
   "outputs": [
    {
     "data": {
      "image/png": "[encoded data removed]",
      "text/plain": [
       "<Figure size 800x500 with 1 Axes>"
      ]
     },
     "metadata": {
      "needs_background": "dark"
     },
     "output_type": "display_data"
    }
   ],
   "source": [
    "# Define the dark theme to match the slide design\n",
    "plt.style.use('dark_background')\n",
    "\n",
    "# Create the figure and axis with a transparent background\n",
    "fig, ax = plt.subplots(figsize=(8, 5), facecolor='none')\n",
    "\n",
    "# Set color scheme to match the Twitch slide deck (purple theme)\n",
    "line_color = '#A780F6'  # Soft purple\n",
    "fill_color = '#A780F6'  # Soft purple for transparency\n",
    "\n",
    "# Plot the viewer trends line with shading (to match slide aesthetics)\n",
    "sns.lineplot(x=us_viewers_by_hour.index, y=us_viewers_by_hour['login'], color=line_color, linewidth=2)\n",
    "ax.fill_between(us_viewers_by_hour.index, y_upper, y_lower, color=fill_color, alpha=0.2)  # Transparency effect\n",
    "\n",
    "# Customize chart appearance to match slide\n",
    "ax.set_facecolor('none')  # Transparent background\n",
    "ax.spines['top'].set_color('white')\n",
    "ax.spines['right'].set_color('white')\n",
    "ax.spines['bottom'].set_color('white')\n",
    "ax.spines['left'].set_color('white')\n",
    "\n",
    "# Add dotted grid lines (to match slide design)\n",
    "ax.grid(color='white', linestyle='dotted', linewidth=0.7, alpha=0.5)\n",
    "\n",
    "# Remove grid lines and axis lines (spines)\n",
    "ax.spines['top'].set_visible(False)\n",
    "ax.spines['right'].set_visible(False)\n",
    "ax.spines['bottom'].set_visible(False)\n",
    "ax.spines['left'].set_visible(False)\n",
    "\n",
    "# Set labels, title, and fonts to match slide design\n",
    "ax.set_title('Viewer Trends Over Time', fontsize=14, color='white', fontweight='bold')\n",
    "ax.set_xlabel('Hour', fontsize=12, color='white', labelpad=10)\n",
    "ax.set_ylabel('Viewers', fontsize=12, color='white', labelpad=15)\n",
    "\n",
    "# Customize ticks to match slide\n",
    "ax.tick_params(axis='both', colors='white', labelsize=10)\n",
    "# Format Y-axis labels in 'XK' format (e.g., 10K, 20K)\n",
    "ax.yaxis.set_major_formatter(mticker.FuncFormatter(lambda x, _: f'{int(x/1000)}K'))\n",
    "\n",
    "# Convert hours to AM/PM format\n",
    "hour_labels = [f\"{h%12 if h%12 else 12}{' AM' if h < 12 else ' PM'}\" for h in us_viewers_by_hour.index]\n",
    "ax.set_xticks(us_viewers_by_hour.index[::3])\n",
    "ax.set_xticklabels(hour_labels[::3])\n",
    "\n",
    "\n",
    "\n",
    "# Save the plot with transparent background\n",
    "plt.savefig('Visualizations/viewer_trends_transparent.png', transparent=True, dpi=300)\n",
    "\n",
    "# Show the final chart\n",
    "plt.show()"
   ]
  },
  {
   "cell_type": "markdown",
   "metadata": {},
   "source": [
    "#### Top 5 streaming countries"
   ]
  },
  {
   "cell_type": "code",
   "execution_count": 201,
   "metadata": {},
   "outputs": [
    {
     "data": {
      "text/html": [
       "<div>\n",
       "<style scoped>\n",
       "    .dataframe tbody tr th:only-of-type {\n",
       "        vertical-align: middle;\n",
       "    }\n",
       "\n",
       "    .dataframe tbody tr th {\n",
       "        vertical-align: top;\n",
       "    }\n",
       "\n",
       "    .dataframe thead th {\n",
       "        text-align: right;\n",
       "    }\n",
       "</style>\n",
       "<table border=\"1\" class=\"dataframe\">\n",
       "  <thead>\n",
       "    <tr style=\"text-align: right;\">\n",
       "      <th></th>\n",
       "      <th>login</th>\n",
       "    </tr>\n",
       "    <tr>\n",
       "      <th>country</th>\n",
       "      <th></th>\n",
       "    </tr>\n",
       "  </thead>\n",
       "  <tbody>\n",
       "    <tr>\n",
       "      <th>US</th>\n",
       "      <td>190378</td>\n",
       "    </tr>\n",
       "    <tr>\n",
       "      <th>RU</th>\n",
       "      <td>29807</td>\n",
       "    </tr>\n",
       "    <tr>\n",
       "      <th>TW</th>\n",
       "      <td>29489</td>\n",
       "    </tr>\n",
       "    <tr>\n",
       "      <th>DE</th>\n",
       "      <td>29262</td>\n",
       "    </tr>\n",
       "    <tr>\n",
       "      <th>CA</th>\n",
       "      <td>27350</td>\n",
       "    </tr>\n",
       "    <tr>\n",
       "      <th>...</th>\n",
       "      <td>...</td>\n",
       "    </tr>\n",
       "    <tr>\n",
       "      <th>SN</th>\n",
       "      <td>1</td>\n",
       "    </tr>\n",
       "    <tr>\n",
       "      <th>SM</th>\n",
       "      <td>1</td>\n",
       "    </tr>\n",
       "    <tr>\n",
       "      <th>MP</th>\n",
       "      <td>1</td>\n",
       "    </tr>\n",
       "    <tr>\n",
       "      <th>GA</th>\n",
       "      <td>1</td>\n",
       "    </tr>\n",
       "    <tr>\n",
       "      <th>YE</th>\n",
       "      <td>1</td>\n",
       "    </tr>\n",
       "  </tbody>\n",
       "</table>\n",
       "<p>166 rows × 1 columns</p>\n",
       "</div>"
      ],
      "text/plain": [
       "          login\n",
       "country        \n",
       "US       190378\n",
       "RU        29807\n",
       "TW        29489\n",
       "DE        29262\n",
       "CA        27350\n",
       "...         ...\n",
       "SN            1\n",
       "SM            1\n",
       "MP            1\n",
       "GA            1\n",
       "YE            1\n",
       "\n",
       "[166 rows x 1 columns]"
      ]
     },
     "execution_count": 201,
     "metadata": {},
     "output_type": "execute_result"
    }
   ],
   "source": [
    "# Group by 'country' and count the number of unique logins to determine viewership by country\n",
    "viewers_by_country = stream[['country', 'login']][stream['country'] != 'N/A'].groupby('country').count().sort_values(by='login', ascending=False)\n",
    "\n",
    "viewers_by_country"
   ]
  },
  {
   "cell_type": "code",
   "execution_count": 202,
   "metadata": {},
   "outputs": [
    {
     "data": {
      "text/html": [
       "<div>\n",
       "<style scoped>\n",
       "    .dataframe tbody tr th:only-of-type {\n",
       "        vertical-align: middle;\n",
       "    }\n",
       "\n",
       "    .dataframe tbody tr th {\n",
       "        vertical-align: top;\n",
       "    }\n",
       "\n",
       "    .dataframe thead th {\n",
       "        text-align: right;\n",
       "    }\n",
       "</style>\n",
       "<table border=\"1\" class=\"dataframe\">\n",
       "  <thead>\n",
       "    <tr style=\"text-align: right;\">\n",
       "      <th></th>\n",
       "      <th>login</th>\n",
       "    </tr>\n",
       "    <tr>\n",
       "      <th>country</th>\n",
       "      <th></th>\n",
       "    </tr>\n",
       "  </thead>\n",
       "  <tbody>\n",
       "    <tr>\n",
       "      <th>US</th>\n",
       "      <td>190378</td>\n",
       "    </tr>\n",
       "    <tr>\n",
       "      <th>RU</th>\n",
       "      <td>29807</td>\n",
       "    </tr>\n",
       "    <tr>\n",
       "      <th>TW</th>\n",
       "      <td>29489</td>\n",
       "    </tr>\n",
       "    <tr>\n",
       "      <th>DE</th>\n",
       "      <td>29262</td>\n",
       "    </tr>\n",
       "    <tr>\n",
       "      <th>CA</th>\n",
       "      <td>27350</td>\n",
       "    </tr>\n",
       "  </tbody>\n",
       "</table>\n",
       "</div>"
      ],
      "text/plain": [
       "          login\n",
       "country        \n",
       "US       190378\n",
       "RU        29807\n",
       "TW        29489\n",
       "DE        29262\n",
       "CA        27350"
      ]
     },
     "execution_count": 202,
     "metadata": {},
     "output_type": "execute_result"
    }
   ],
   "source": [
    "# Separate countries above and below the threshold\n",
    "top_5 = viewers_by_country.head(5)\n",
    "top_5"
   ]
  },
  {
   "cell_type": "markdown",
   "metadata": {},
   "source": [
    "### Visualization"
   ]
  },
  {
   "cell_type": "code",
   "execution_count": 203,
   "metadata": {},
   "outputs": [
    {
     "data": {
      "image/png": "[encoded data removed]",
      "text/plain": [
       "<Figure size 800x500 with 1 Axes>"
      ]
     },
     "metadata": {
      "needs_background": "dark"
     },
     "output_type": "display_data"
    },
    {
     "data": {
      "text/plain": [
       "<Figure size 640x480 with 0 Axes>"
      ]
     },
     "metadata": {},
     "output_type": "display_data"
    }
   ],
   "source": [
    "# Define the dark theme to match the slide design\n",
    "plt.style.use('dark_background')\n",
    "\n",
    "# Create the figure and axis with a transparent background\n",
    "fig, ax = plt.subplots(figsize=(8, 5), facecolor='none')\n",
    "# Adjust layout to add space at the top\n",
    "fig.subplots_adjust(top=0.9, hspace=1)\n",
    "\n",
    "# Set color scheme to match the Twitch slide deck (purple theme)\n",
    "line_color = '#A780F6'  # Soft purple\n",
    "fill_color = '#A780F6'  # Soft purple for transparency\n",
    "\n",
    "# Plot a bar chart of Top 5 Countries\n",
    "plt.bar(range(len(top_5)), top_5['login'], color='#6441a5', label='Twitch', width=0.4)\n",
    "\n",
    "# Tick configuration\n",
    "ax.set_xticks(range(len(top_5)))  # Ensure ticks match bar positions\n",
    "ax.set_xticklabels(top_5.index)  # Rotate and align labels\n",
    "\n",
    "# Customize chart appearance to match slide\n",
    "ax.set_facecolor('none')  # Transparent background\n",
    "ax.spines['top'].set_color('white')\n",
    "ax.spines['right'].set_color('white')\n",
    "ax.spines['bottom'].set_color('white')\n",
    "ax.spines['left'].set_color('white')\n",
    "\n",
    "# Add dotted grid lines (to match slide design)\n",
    "ax.grid(color='white', linestyle='dotted', linewidth=0.7, alpha=0.5) # add parameter axis='y' for horizontal lines only\n",
    "\n",
    "# Remove grid lines and axis lines (spines)\n",
    "ax.spines['top'].set_visible(False)\n",
    "ax.spines['right'].set_visible(False)\n",
    "ax.spines['bottom'].set_visible(False)\n",
    "ax.spines['left'].set_visible(False)\n",
    "\n",
    "# Set labels, title, and fonts to match slide design\n",
    "ax.set_title('Countries with the most streams', fontsize=14, color='white', fontweight='bold', pad=20)\n",
    "ax.set_xlabel('Countries', fontsize=12, color='white', labelpad=10)\n",
    "ax.set_ylabel('Viewers', fontsize=12, color='white', labelpad=15)\n",
    "\n",
    "# Customize ticks to match slide\n",
    "ax.tick_params(axis='both', colors='white', labelsize=10)\n",
    "# Format Y-axis labels in 'XK' format (e.g., 10K, 20K)\n",
    "ax.yaxis.set_major_formatter(mticker.FuncFormatter(lambda x, _: f'{int(x/1000)}K'))\n",
    "\n",
    "# Save the plot with transparent background\n",
    "plt.savefig('Visualizations/top_5_countries.png', transparent=True, dpi=300)\n",
    "\n",
    "# Show the final chart\n",
    "plt.show()\n",
    "plt.clf()"
   ]
  }
 ],
 "metadata": {
  "kernelspec": {
   "display_name": "base",
   "language": "python",
   "name": "python3"
  },
  "language_info": {
   "codemirror_mode": {
    "name": "ipython",
    "version": 3
   },
   "file_extension": ".py",
   "mimetype": "text/x-python",
   "name": "python",
   "nbconvert_exporter": "python",
   "pygments_lexer": "ipython3",
   "version": "3.11.8"
  }
 },
 "nbformat": 4,
 "nbformat_minor": 2
}
